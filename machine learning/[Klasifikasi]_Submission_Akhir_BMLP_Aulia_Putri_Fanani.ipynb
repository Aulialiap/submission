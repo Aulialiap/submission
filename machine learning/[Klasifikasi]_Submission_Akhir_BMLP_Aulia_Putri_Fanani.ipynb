{
  "cells": [
    {
      "cell_type": "markdown",
      "metadata": {
        "id": "fKADPWcFKlj3"
      },
      "source": [
        "# **1. Import Library**"
      ]
    },
    {
      "cell_type": "markdown",
      "metadata": {
        "id": "LgA3ERnVn84N"
      },
      "source": [
        "Pada tahap ini, Anda perlu mengimpor beberapa pustaka (library) Python yang dibutuhkan untuk analisis data dan pembangunan model machine learning."
      ]
    },
    {
      "cell_type": "code",
      "execution_count": 18,
      "metadata": {
        "id": "DSlsXuyZHrnc"
      },
      "outputs": [],
      "source": [
        "import pandas as pd\n",
        "import numpy as np\n",
        "import seaborn as sns\n",
        "import matplotlib.pyplot as plt\n",
        "from sklearn.model_selection import train_test_split\n",
        "from sklearn.preprocessing import LabelEncoder, StandardScaler, MinMaxScaler\n",
        "from sklearn.neighbors import KNeighborsClassifier\n",
        "from sklearn.tree import DecisionTreeClassifier\n",
        "from sklearn.ensemble import RandomForestClassifier\n",
        "from sklearn.svm import SVC\n",
        "from sklearn.naive_bayes import GaussianNB\n",
        "from sklearn.metrics import confusion_matrix, accuracy_score, precision_score, recall_score, f1_score, classification_report"
      ]
    },
    {
      "cell_type": "markdown",
      "metadata": {
        "id": "f3YIEnAFKrKL"
      },
      "source": [
        "# **2. Memuat Dataset dari Hasil Clustering**"
      ]
    },
    {
      "cell_type": "markdown",
      "metadata": {
        "id": "Ey3ItwTen_7E"
      },
      "source": [
        "Memuat dataset hasil clustering dari file CSV ke dalam variabel DataFrame."
      ]
    },
    {
      "cell_type": "code",
      "execution_count": 19,
      "metadata": {
        "colab": {
          "base_uri": "https://localhost:8080/",
          "height": 313
        },
        "id": "GHCGNTyrM5fS",
        "outputId": "2754e870-9374-4a2b-e391-a03a8c54c4fb"
      },
      "outputs": [
        {
          "output_type": "execute_result",
          "data": {
            "text/plain": [
              "   year  month                country   region  avg_temp_c  precipitation_mm  \\\n",
              "0  2000      1  Palestinian Territory  Central   28.132468        152.083870   \n",
              "1  2000      2  Palestinian Territory  Central   30.886500        119.591418   \n",
              "2  2000      3  Palestinian Territory  Central   31.366433         95.876124   \n",
              "3  2000      4  Palestinian Territory  Central   28.481870        175.315731   \n",
              "4  2000      5  Palestinian Territory  Central   26.890370        191.445990   \n",
              "\n",
              "   air_quality_index   uv_index  malaria_cases  dengue_cases  \\\n",
              "0         110.487231  12.000000             53           145   \n",
              "1          83.467928  12.000000            132            48   \n",
              "2          93.095292  12.000000             34            80   \n",
              "3         105.530192   9.395894             23           133   \n",
              "4          60.205979   9.935726             39            74   \n",
              "\n",
              "   population_density  healthcare_budget  en_country  en_region  air_level  \\\n",
              "0                 113               1068           8          0  Unhealthy   \n",
              "1                 113               1068           8          0   Moderate   \n",
              "2                 113               1068           8          0   Moderate   \n",
              "3                 113               1068           8          0  Unhealthy   \n",
              "4                 113               1068           8          0   Moderate   \n",
              "\n",
              "   Cluster  \n",
              "0        0  \n",
              "1        0  \n",
              "2        0  \n",
              "3        0  \n",
              "4        0  "
            ],
            "text/html": [
              "\n",
              "  <div id=\"df-24895413-c286-4cdd-bb5a-850a58ff79c3\" class=\"colab-df-container\">\n",
              "    <div>\n",
              "<style scoped>\n",
              "    .dataframe tbody tr th:only-of-type {\n",
              "        vertical-align: middle;\n",
              "    }\n",
              "\n",
              "    .dataframe tbody tr th {\n",
              "        vertical-align: top;\n",
              "    }\n",
              "\n",
              "    .dataframe thead th {\n",
              "        text-align: right;\n",
              "    }\n",
              "</style>\n",
              "<table border=\"1\" class=\"dataframe\">\n",
              "  <thead>\n",
              "    <tr style=\"text-align: right;\">\n",
              "      <th></th>\n",
              "      <th>year</th>\n",
              "      <th>month</th>\n",
              "      <th>country</th>\n",
              "      <th>region</th>\n",
              "      <th>avg_temp_c</th>\n",
              "      <th>precipitation_mm</th>\n",
              "      <th>air_quality_index</th>\n",
              "      <th>uv_index</th>\n",
              "      <th>malaria_cases</th>\n",
              "      <th>dengue_cases</th>\n",
              "      <th>population_density</th>\n",
              "      <th>healthcare_budget</th>\n",
              "      <th>en_country</th>\n",
              "      <th>en_region</th>\n",
              "      <th>air_level</th>\n",
              "      <th>Cluster</th>\n",
              "    </tr>\n",
              "  </thead>\n",
              "  <tbody>\n",
              "    <tr>\n",
              "      <th>0</th>\n",
              "      <td>2000</td>\n",
              "      <td>1</td>\n",
              "      <td>Palestinian Territory</td>\n",
              "      <td>Central</td>\n",
              "      <td>28.132468</td>\n",
              "      <td>152.083870</td>\n",
              "      <td>110.487231</td>\n",
              "      <td>12.000000</td>\n",
              "      <td>53</td>\n",
              "      <td>145</td>\n",
              "      <td>113</td>\n",
              "      <td>1068</td>\n",
              "      <td>8</td>\n",
              "      <td>0</td>\n",
              "      <td>Unhealthy</td>\n",
              "      <td>0</td>\n",
              "    </tr>\n",
              "    <tr>\n",
              "      <th>1</th>\n",
              "      <td>2000</td>\n",
              "      <td>2</td>\n",
              "      <td>Palestinian Territory</td>\n",
              "      <td>Central</td>\n",
              "      <td>30.886500</td>\n",
              "      <td>119.591418</td>\n",
              "      <td>83.467928</td>\n",
              "      <td>12.000000</td>\n",
              "      <td>132</td>\n",
              "      <td>48</td>\n",
              "      <td>113</td>\n",
              "      <td>1068</td>\n",
              "      <td>8</td>\n",
              "      <td>0</td>\n",
              "      <td>Moderate</td>\n",
              "      <td>0</td>\n",
              "    </tr>\n",
              "    <tr>\n",
              "      <th>2</th>\n",
              "      <td>2000</td>\n",
              "      <td>3</td>\n",
              "      <td>Palestinian Territory</td>\n",
              "      <td>Central</td>\n",
              "      <td>31.366433</td>\n",
              "      <td>95.876124</td>\n",
              "      <td>93.095292</td>\n",
              "      <td>12.000000</td>\n",
              "      <td>34</td>\n",
              "      <td>80</td>\n",
              "      <td>113</td>\n",
              "      <td>1068</td>\n",
              "      <td>8</td>\n",
              "      <td>0</td>\n",
              "      <td>Moderate</td>\n",
              "      <td>0</td>\n",
              "    </tr>\n",
              "    <tr>\n",
              "      <th>3</th>\n",
              "      <td>2000</td>\n",
              "      <td>4</td>\n",
              "      <td>Palestinian Territory</td>\n",
              "      <td>Central</td>\n",
              "      <td>28.481870</td>\n",
              "      <td>175.315731</td>\n",
              "      <td>105.530192</td>\n",
              "      <td>9.395894</td>\n",
              "      <td>23</td>\n",
              "      <td>133</td>\n",
              "      <td>113</td>\n",
              "      <td>1068</td>\n",
              "      <td>8</td>\n",
              "      <td>0</td>\n",
              "      <td>Unhealthy</td>\n",
              "      <td>0</td>\n",
              "    </tr>\n",
              "    <tr>\n",
              "      <th>4</th>\n",
              "      <td>2000</td>\n",
              "      <td>5</td>\n",
              "      <td>Palestinian Territory</td>\n",
              "      <td>Central</td>\n",
              "      <td>26.890370</td>\n",
              "      <td>191.445990</td>\n",
              "      <td>60.205979</td>\n",
              "      <td>9.935726</td>\n",
              "      <td>39</td>\n",
              "      <td>74</td>\n",
              "      <td>113</td>\n",
              "      <td>1068</td>\n",
              "      <td>8</td>\n",
              "      <td>0</td>\n",
              "      <td>Moderate</td>\n",
              "      <td>0</td>\n",
              "    </tr>\n",
              "  </tbody>\n",
              "</table>\n",
              "</div>\n",
              "    <div class=\"colab-df-buttons\">\n",
              "\n",
              "  <div class=\"colab-df-container\">\n",
              "    <button class=\"colab-df-convert\" onclick=\"convertToInteractive('df-24895413-c286-4cdd-bb5a-850a58ff79c3')\"\n",
              "            title=\"Convert this dataframe to an interactive table.\"\n",
              "            style=\"display:none;\">\n",
              "\n",
              "  <svg xmlns=\"http://www.w3.org/2000/svg\" height=\"24px\" viewBox=\"0 -960 960 960\">\n",
              "    <path d=\"M120-120v-720h720v720H120Zm60-500h600v-160H180v160Zm220 220h160v-160H400v160Zm0 220h160v-160H400v160ZM180-400h160v-160H180v160Zm440 0h160v-160H620v160ZM180-180h160v-160H180v160Zm440 0h160v-160H620v160Z\"/>\n",
              "  </svg>\n",
              "    </button>\n",
              "\n",
              "  <style>\n",
              "    .colab-df-container {\n",
              "      display:flex;\n",
              "      gap: 12px;\n",
              "    }\n",
              "\n",
              "    .colab-df-convert {\n",
              "      background-color: #E8F0FE;\n",
              "      border: none;\n",
              "      border-radius: 50%;\n",
              "      cursor: pointer;\n",
              "      display: none;\n",
              "      fill: #1967D2;\n",
              "      height: 32px;\n",
              "      padding: 0 0 0 0;\n",
              "      width: 32px;\n",
              "    }\n",
              "\n",
              "    .colab-df-convert:hover {\n",
              "      background-color: #E2EBFA;\n",
              "      box-shadow: 0px 1px 2px rgba(60, 64, 67, 0.3), 0px 1px 3px 1px rgba(60, 64, 67, 0.15);\n",
              "      fill: #174EA6;\n",
              "    }\n",
              "\n",
              "    .colab-df-buttons div {\n",
              "      margin-bottom: 4px;\n",
              "    }\n",
              "\n",
              "    [theme=dark] .colab-df-convert {\n",
              "      background-color: #3B4455;\n",
              "      fill: #D2E3FC;\n",
              "    }\n",
              "\n",
              "    [theme=dark] .colab-df-convert:hover {\n",
              "      background-color: #434B5C;\n",
              "      box-shadow: 0px 1px 3px 1px rgba(0, 0, 0, 0.15);\n",
              "      filter: drop-shadow(0px 1px 2px rgba(0, 0, 0, 0.3));\n",
              "      fill: #FFFFFF;\n",
              "    }\n",
              "  </style>\n",
              "\n",
              "    <script>\n",
              "      const buttonEl =\n",
              "        document.querySelector('#df-24895413-c286-4cdd-bb5a-850a58ff79c3 button.colab-df-convert');\n",
              "      buttonEl.style.display =\n",
              "        google.colab.kernel.accessAllowed ? 'block' : 'none';\n",
              "\n",
              "      async function convertToInteractive(key) {\n",
              "        const element = document.querySelector('#df-24895413-c286-4cdd-bb5a-850a58ff79c3');\n",
              "        const dataTable =\n",
              "          await google.colab.kernel.invokeFunction('convertToInteractive',\n",
              "                                                    [key], {});\n",
              "        if (!dataTable) return;\n",
              "\n",
              "        const docLinkHtml = 'Like what you see? Visit the ' +\n",
              "          '<a target=\"_blank\" href=https://colab.research.google.com/notebooks/data_table.ipynb>data table notebook</a>'\n",
              "          + ' to learn more about interactive tables.';\n",
              "        element.innerHTML = '';\n",
              "        dataTable['output_type'] = 'display_data';\n",
              "        await google.colab.output.renderOutput(dataTable, element);\n",
              "        const docLink = document.createElement('div');\n",
              "        docLink.innerHTML = docLinkHtml;\n",
              "        element.appendChild(docLink);\n",
              "      }\n",
              "    </script>\n",
              "  </div>\n",
              "\n",
              "\n",
              "<div id=\"df-35e608ed-40da-4fda-a3ce-7cefef5f9f03\">\n",
              "  <button class=\"colab-df-quickchart\" onclick=\"quickchart('df-35e608ed-40da-4fda-a3ce-7cefef5f9f03')\"\n",
              "            title=\"Suggest charts\"\n",
              "            style=\"display:none;\">\n",
              "\n",
              "<svg xmlns=\"http://www.w3.org/2000/svg\" height=\"24px\"viewBox=\"0 0 24 24\"\n",
              "     width=\"24px\">\n",
              "    <g>\n",
              "        <path d=\"M19 3H5c-1.1 0-2 .9-2 2v14c0 1.1.9 2 2 2h14c1.1 0 2-.9 2-2V5c0-1.1-.9-2-2-2zM9 17H7v-7h2v7zm4 0h-2V7h2v10zm4 0h-2v-4h2v4z\"/>\n",
              "    </g>\n",
              "</svg>\n",
              "  </button>\n",
              "\n",
              "<style>\n",
              "  .colab-df-quickchart {\n",
              "      --bg-color: #E8F0FE;\n",
              "      --fill-color: #1967D2;\n",
              "      --hover-bg-color: #E2EBFA;\n",
              "      --hover-fill-color: #174EA6;\n",
              "      --disabled-fill-color: #AAA;\n",
              "      --disabled-bg-color: #DDD;\n",
              "  }\n",
              "\n",
              "  [theme=dark] .colab-df-quickchart {\n",
              "      --bg-color: #3B4455;\n",
              "      --fill-color: #D2E3FC;\n",
              "      --hover-bg-color: #434B5C;\n",
              "      --hover-fill-color: #FFFFFF;\n",
              "      --disabled-bg-color: #3B4455;\n",
              "      --disabled-fill-color: #666;\n",
              "  }\n",
              "\n",
              "  .colab-df-quickchart {\n",
              "    background-color: var(--bg-color);\n",
              "    border: none;\n",
              "    border-radius: 50%;\n",
              "    cursor: pointer;\n",
              "    display: none;\n",
              "    fill: var(--fill-color);\n",
              "    height: 32px;\n",
              "    padding: 0;\n",
              "    width: 32px;\n",
              "  }\n",
              "\n",
              "  .colab-df-quickchart:hover {\n",
              "    background-color: var(--hover-bg-color);\n",
              "    box-shadow: 0 1px 2px rgba(60, 64, 67, 0.3), 0 1px 3px 1px rgba(60, 64, 67, 0.15);\n",
              "    fill: var(--button-hover-fill-color);\n",
              "  }\n",
              "\n",
              "  .colab-df-quickchart-complete:disabled,\n",
              "  .colab-df-quickchart-complete:disabled:hover {\n",
              "    background-color: var(--disabled-bg-color);\n",
              "    fill: var(--disabled-fill-color);\n",
              "    box-shadow: none;\n",
              "  }\n",
              "\n",
              "  .colab-df-spinner {\n",
              "    border: 2px solid var(--fill-color);\n",
              "    border-color: transparent;\n",
              "    border-bottom-color: var(--fill-color);\n",
              "    animation:\n",
              "      spin 1s steps(1) infinite;\n",
              "  }\n",
              "\n",
              "  @keyframes spin {\n",
              "    0% {\n",
              "      border-color: transparent;\n",
              "      border-bottom-color: var(--fill-color);\n",
              "      border-left-color: var(--fill-color);\n",
              "    }\n",
              "    20% {\n",
              "      border-color: transparent;\n",
              "      border-left-color: var(--fill-color);\n",
              "      border-top-color: var(--fill-color);\n",
              "    }\n",
              "    30% {\n",
              "      border-color: transparent;\n",
              "      border-left-color: var(--fill-color);\n",
              "      border-top-color: var(--fill-color);\n",
              "      border-right-color: var(--fill-color);\n",
              "    }\n",
              "    40% {\n",
              "      border-color: transparent;\n",
              "      border-right-color: var(--fill-color);\n",
              "      border-top-color: var(--fill-color);\n",
              "    }\n",
              "    60% {\n",
              "      border-color: transparent;\n",
              "      border-right-color: var(--fill-color);\n",
              "    }\n",
              "    80% {\n",
              "      border-color: transparent;\n",
              "      border-right-color: var(--fill-color);\n",
              "      border-bottom-color: var(--fill-color);\n",
              "    }\n",
              "    90% {\n",
              "      border-color: transparent;\n",
              "      border-bottom-color: var(--fill-color);\n",
              "    }\n",
              "  }\n",
              "</style>\n",
              "\n",
              "  <script>\n",
              "    async function quickchart(key) {\n",
              "      const quickchartButtonEl =\n",
              "        document.querySelector('#' + key + ' button');\n",
              "      quickchartButtonEl.disabled = true;  // To prevent multiple clicks.\n",
              "      quickchartButtonEl.classList.add('colab-df-spinner');\n",
              "      try {\n",
              "        const charts = await google.colab.kernel.invokeFunction(\n",
              "            'suggestCharts', [key], {});\n",
              "      } catch (error) {\n",
              "        console.error('Error during call to suggestCharts:', error);\n",
              "      }\n",
              "      quickchartButtonEl.classList.remove('colab-df-spinner');\n",
              "      quickchartButtonEl.classList.add('colab-df-quickchart-complete');\n",
              "    }\n",
              "    (() => {\n",
              "      let quickchartButtonEl =\n",
              "        document.querySelector('#df-35e608ed-40da-4fda-a3ce-7cefef5f9f03 button');\n",
              "      quickchartButtonEl.style.display =\n",
              "        google.colab.kernel.accessAllowed ? 'block' : 'none';\n",
              "    })();\n",
              "  </script>\n",
              "</div>\n",
              "\n",
              "    </div>\n",
              "  </div>\n"
            ],
            "application/vnd.google.colaboratory.intrinsic+json": {
              "type": "dataframe",
              "variable_name": "df",
              "summary": "{\n  \"name\": \"df\",\n  \"rows\": 4174,\n  \"fields\": [\n    {\n      \"column\": \"year\",\n      \"properties\": {\n        \"dtype\": \"number\",\n        \"std\": 6,\n        \"min\": 2000,\n        \"max\": 2023,\n        \"num_unique_values\": 24,\n        \"samples\": [\n          2008,\n          2016,\n          2000\n        ],\n        \"semantic_type\": \"\",\n        \"description\": \"\"\n      }\n    },\n    {\n      \"column\": \"month\",\n      \"properties\": {\n        \"dtype\": \"number\",\n        \"std\": 3,\n        \"min\": 1,\n        \"max\": 12,\n        \"num_unique_values\": 12,\n        \"samples\": [\n          11,\n          10,\n          1\n        ],\n        \"semantic_type\": \"\",\n        \"description\": \"\"\n      }\n    },\n    {\n      \"column\": \"country\",\n      \"properties\": {\n        \"dtype\": \"category\",\n        \"num_unique_values\": 15,\n        \"samples\": [\n          \"Oman\",\n          \"South Georgia and the South Sandwich Islands\",\n          \"Palestinian Territory\"\n        ],\n        \"semantic_type\": \"\",\n        \"description\": \"\"\n      }\n    },\n    {\n      \"column\": \"region\",\n      \"properties\": {\n        \"dtype\": \"category\",\n        \"num_unique_values\": 5,\n        \"samples\": [\n          \"North\",\n          \"West\",\n          \"South\"\n        ],\n        \"semantic_type\": \"\",\n        \"description\": \"\"\n      }\n    },\n    {\n      \"column\": \"avg_temp_c\",\n      \"properties\": {\n        \"dtype\": \"number\",\n        \"std\": 7.57491623952386,\n        \"min\": 4.321002886243187,\n        \"max\": 42.929179644364886,\n        \"num_unique_values\": 4174,\n        \"samples\": [\n          21.850322063179554,\n          16.63622650295738,\n          12.974345769422252\n        ],\n        \"semantic_type\": \"\",\n        \"description\": \"\"\n      }\n    },\n    {\n      \"column\": \"precipitation_mm\",\n      \"properties\": {\n        \"dtype\": \"number\",\n        \"std\": 78.52733812923745,\n        \"min\": 5.591918529809604,\n        \"max\": 443.111834225372,\n        \"num_unique_values\": 4174,\n        \"samples\": [\n          175.50515528200944,\n          263.6793922394741,\n          292.1205528978253\n        ],\n        \"semantic_type\": \"\",\n        \"description\": \"\"\n      }\n    },\n    {\n      \"column\": \"air_quality_index\",\n      \"properties\": {\n        \"dtype\": \"number\",\n        \"std\": 30.91573743776053,\n        \"min\": 0.0,\n        \"max\": 142.20573663595914,\n        \"num_unique_values\": 3905,\n        \"samples\": [\n          84.03159580160445,\n          36.6150574650163,\n          66.10098147335718\n        ],\n        \"semantic_type\": \"\",\n        \"description\": \"\"\n      }\n    },\n    {\n      \"column\": \"uv_index\",\n      \"properties\": {\n        \"dtype\": \"number\",\n        \"std\": 1.3360285371935314,\n        \"min\": 6.860683811221873,\n        \"max\": 12.0,\n        \"num_unique_values\": 2308,\n        \"samples\": [\n          8.181332285936918,\n          7.2618941514218225,\n          10.635621726592348\n        ],\n        \"semantic_type\": \"\",\n        \"description\": \"\"\n      }\n    },\n    {\n      \"column\": \"malaria_cases\",\n      \"properties\": {\n        \"dtype\": \"number\",\n        \"std\": 46,\n        \"min\": 0,\n        \"max\": 201,\n        \"num_unique_values\": 189,\n        \"samples\": [\n          198,\n          172,\n          37\n        ],\n        \"semantic_type\": \"\",\n        \"description\": \"\"\n      }\n    },\n    {\n      \"column\": \"dengue_cases\",\n      \"properties\": {\n        \"dtype\": \"number\",\n        \"std\": 36,\n        \"min\": 0,\n        \"max\": 177,\n        \"num_unique_values\": 172,\n        \"samples\": [\n          122,\n          10,\n          159\n        ],\n        \"semantic_type\": \"\",\n        \"description\": \"\"\n      }\n    },\n    {\n      \"column\": \"population_density\",\n      \"properties\": {\n        \"dtype\": \"number\",\n        \"std\": 125,\n        \"min\": 59,\n        \"max\": 489,\n        \"num_unique_values\": 15,\n        \"samples\": [\n          297,\n          489,\n          113\n        ],\n        \"semantic_type\": \"\",\n        \"description\": \"\"\n      }\n    },\n    {\n      \"column\": \"healthcare_budget\",\n      \"properties\": {\n        \"dtype\": \"number\",\n        \"std\": 1187,\n        \"min\": 212,\n        \"max\": 4743,\n        \"num_unique_values\": 15,\n        \"samples\": [\n          2654,\n          3989,\n          1068\n        ],\n        \"semantic_type\": \"\",\n        \"description\": \"\"\n      }\n    },\n    {\n      \"column\": \"en_country\",\n      \"properties\": {\n        \"dtype\": \"number\",\n        \"std\": 4,\n        \"min\": 0,\n        \"max\": 14,\n        \"num_unique_values\": 15,\n        \"samples\": [\n          7,\n          12,\n          8\n        ],\n        \"semantic_type\": \"\",\n        \"description\": \"\"\n      }\n    },\n    {\n      \"column\": \"en_region\",\n      \"properties\": {\n        \"dtype\": \"number\",\n        \"std\": 1,\n        \"min\": 0,\n        \"max\": 4,\n        \"num_unique_values\": 5,\n        \"samples\": [\n          2,\n          4,\n          3\n        ],\n        \"semantic_type\": \"\",\n        \"description\": \"\"\n      }\n    },\n    {\n      \"column\": \"air_level\",\n      \"properties\": {\n        \"dtype\": \"category\",\n        \"num_unique_values\": 3,\n        \"samples\": [\n          \"Unhealthy\",\n          \"Moderate\",\n          \"Good\"\n        ],\n        \"semantic_type\": \"\",\n        \"description\": \"\"\n      }\n    },\n    {\n      \"column\": \"Cluster\",\n      \"properties\": {\n        \"dtype\": \"number\",\n        \"std\": 0,\n        \"min\": 0,\n        \"max\": 2,\n        \"num_unique_values\": 3,\n        \"samples\": [\n          0,\n          1,\n          2\n        ],\n        \"semantic_type\": \"\",\n        \"description\": \"\"\n      }\n    }\n  ]\n}"
            }
          },
          "metadata": {},
          "execution_count": 19
        }
      ],
      "source": [
        "# Mengumpulkan dan memuat dataset csv\n",
        "df = pd.read_csv('/content/hasil_clustering.csv')\n",
        "df.head()"
      ]
    },
    {
      "cell_type": "code",
      "execution_count": 20,
      "metadata": {
        "colab": {
          "base_uri": "https://localhost:8080/",
          "height": 501
        },
        "id": "w6KNTlQRLvKf",
        "outputId": "b0484563-c35a-4196-8841-3cb5efdfe8e3"
      },
      "outputs": [
        {
          "output_type": "stream",
          "name": "stderr",
          "text": [
            "<ipython-input-20-a18010e0ec21>:3: FutureWarning: \n",
            "\n",
            "Passing `palette` without assigning `hue` is deprecated and will be removed in v0.14.0. Assign the `x` variable to `hue` and set `legend=False` for the same effect.\n",
            "\n",
            "  sns.countplot(x='Cluster', data=df, palette='viridis')\n"
          ]
        },
        {
          "output_type": "display_data",
          "data": {
            "text/plain": [
              "<Figure size 800x400 with 1 Axes>"
            ],
            "image/png": "[encoded data removed]"
          },
          "metadata": {}
        }
      ],
      "source": [
        "# Visualisasi distribusi variabel target\n",
        "plt.figure(figsize=(8, 4))\n",
        "sns.countplot(x='Cluster', data=df, palette='viridis')\n",
        "plt.title('Distribusi Variabel Target (Cluster)')\n",
        "plt.show()"
      ]
    },
    {
      "cell_type": "markdown",
      "metadata": {
        "id": "KkPem5eWL2UP"
      },
      "source": [
        "# **3. Data Splitting**"
      ]
    },
    {
      "cell_type": "markdown",
      "metadata": {
        "id": "YYj1rl_JNI9Y"
      },
      "source": [
        "Tahap Data Splitting bertujuan untuk memisahkan dataset menjadi dua bagian: data latih (training set) dan data uji (test set)."
      ]
    },
    {
      "cell_type": "code",
      "execution_count": 21,
      "metadata": {
        "id": "46nXV_AHNBZr"
      },
      "outputs": [],
      "source": [
        "# Drop kolom yang tidak diperlukan sebelum pelatihan\n",
        "df = df.drop(columns=df.select_dtypes(include='object').columns)\n",
        "\n",
        "# Beberapa kolom tersebut di drop karena beberapa kelas yang bertipe data object merupakan hasil pengelompokkan clustering sebelumnya dan beberapa kelas yang sudah\n",
        "# di encoding pada program clustering sebelumnya"
      ]
    },
    {
      "cell_type": "code",
      "source": [
        "# Memeriksa tipe data sebelum membagi dataset\n",
        "print(\"Jumlah Baris dan Kolom :\", df.shape)\n",
        "print(\"\\nTipe Data :\\n\", df.dtypes)"
      ],
      "metadata": {
        "colab": {
          "base_uri": "https://localhost:8080/"
        },
        "id": "o2NnJJAxzLzf",
        "outputId": "d412cc97-01ac-40d2-c2d3-91ca24a978f8"
      },
      "execution_count": 22,
      "outputs": [
        {
          "output_type": "stream",
          "name": "stdout",
          "text": [
            "Jumlah Baris dan Kolom : (4174, 13)\n",
            "\n",
            "Tipe Data :\n",
            " year                    int64\n",
            "month                   int64\n",
            "avg_temp_c            float64\n",
            "precipitation_mm      float64\n",
            "air_quality_index     float64\n",
            "uv_index              float64\n",
            "malaria_cases           int64\n",
            "dengue_cases            int64\n",
            "population_density      int64\n",
            "healthcare_budget       int64\n",
            "en_country              int64\n",
            "en_region               int64\n",
            "Cluster                 int64\n",
            "dtype: object\n"
          ]
        }
      ]
    },
    {
      "cell_type": "code",
      "execution_count": 23,
      "metadata": {
        "colab": {
          "base_uri": "https://localhost:8080/"
        },
        "id": "OubAW-7ONKVj",
        "outputId": "d9897bc5-13d4-4148-923f-8a873ce813c5"
      },
      "outputs": [
        {
          "output_type": "stream",
          "name": "stdout",
          "text": [
            "Training set shape: X_train=(3339, 12), y_train=(3339,)\n",
            "Test set shape: X_test=(835, 12), y_test=(835,)\n"
          ]
        }
      ],
      "source": [
        "# Membagi dataset\n",
        "# Buat instance MinMaxScaler\n",
        "scaler = MinMaxScaler()\n",
        "\n",
        "# Normalisasi semua kolom numerik\n",
        "numeric_columns = df.select_dtypes(include=['int64', 'float64']).columns\n",
        "df[numeric_columns] = scaler.fit_transform(df[numeric_columns])\n",
        "\n",
        "# Pisahkan fitur (X) dan target (y)\n",
        "X = df.drop(columns=['Cluster'])  # Asumsikan 'Cluster' sebagai target klasifikasi\n",
        "y = df['Cluster'].round().astype(int)\n",
        "\n",
        "# Split data menjadi set pelatihan dan set uji\n",
        "X_train, X_test, y_train, y_test = train_test_split(X, y, test_size=0.2, random_state=42)\n",
        "\n",
        "# Tampilkan bentuk set pelatihan dan set uji untuk memastikan split\n",
        "print(f\"Training set shape: X_train={X_train.shape}, y_train={y_train.shape}\")\n",
        "print(f\"Test set shape: X_test={X_test.shape}, y_test={y_test.shape}\")"
      ]
    },
    {
      "cell_type": "markdown",
      "metadata": {
        "id": "IVPbB03CMhTT"
      },
      "source": [
        "# **4. Membangun Model Klasifikasi**\n"
      ]
    },
    {
      "cell_type": "markdown",
      "metadata": {
        "id": "Ned1pL9zMmBK"
      },
      "source": [
        "## **a. Membangun Model Klasifikasi**"
      ]
    },
    {
      "cell_type": "markdown",
      "metadata": {
        "id": "WAWzPOE4Nkti"
      },
      "source": [
        "Setelah memilih algoritma klasifikasi yang sesuai, langkah selanjutnya adalah melatih model menggunakan data latih.\n",
        "\n",
        "Berikut adalah rekomendasi tahapannya.\n",
        "1. Pilih algoritma klasifikasi yang sesuai, seperti Logistic Regression, Decision Tree, Random Forest, atau K-Nearest Neighbors (KNN).\n",
        "2. Latih model menggunakan data latih."
      ]
    },
    {
      "cell_type": "code",
      "execution_count": 24,
      "metadata": {
        "colab": {
          "base_uri": "https://localhost:8080/"
        },
        "id": "4JYxBe87NLDk",
        "outputId": "5f9b4f4a-c81e-49c6-c30a-466e99a706c3"
      },
      "outputs": [
        {
          "output_type": "stream",
          "name": "stdout",
          "text": [
            "Model training selesai.\n"
          ]
        }
      ],
      "source": [
        "# Pelatihan model klasifikasi dengan beberapa aglgoritma\n",
        "knn = KNeighborsClassifier().fit(X_train, y_train)\n",
        "dt = DecisionTreeClassifier().fit(X_train, y_train)\n",
        "rf = RandomForestClassifier().fit(X_train, y_train)\n",
        "svm = SVC().fit(X_train, y_train)\n",
        "nb = GaussianNB().fit(X_train, y_train)\n",
        "\n",
        "print(\"Model training selesai.\")"
      ]
    },
    {
      "cell_type": "markdown",
      "metadata": {
        "id": "seYoHNY3XU1y"
      },
      "source": [
        "Tulis narasi atau penjelasan algoritma yang Anda gunakan."
      ]
    },
    {
      "cell_type": "markdown",
      "metadata": {
        "id": "ergzChZFEL-O"
      },
      "source": [
        "## **b. Evaluasi Model Klasifikasi**"
      ]
    },
    {
      "cell_type": "markdown",
      "metadata": {
        "id": "zOm68u-7NpLT"
      },
      "source": [
        "Berikut adalah **rekomendasi** tahapannya.\n",
        "1. Lakukan prediksi menggunakan data uji.\n",
        "2. Hitung metrik evaluasi seperti Accuracy dan F1-Score (Opsional: Precision dan Recall).\n",
        "3. Buat confusion matrix untuk melihat detail prediksi benar dan salah."
      ]
    },
    {
      "cell_type": "code",
      "execution_count": 25,
      "metadata": {
        "id": "tMq4QAssNLip"
      },
      "outputs": [],
      "source": [
        "# Fungsi untuk mengevaluasi dan mengembalikan hasil\n",
        "def evaluate_model(model, X_test, y_test):\n",
        "    y_pred = model.predict(X_test)\n",
        "    cm = confusion_matrix(y_test, y_pred)\n",
        "    tn, fp, fn, tp = cm.ravel()\n",
        "    results = {\n",
        "        'Confusion Matrix': cm,\n",
        "        'True Positive (TP)': tp,\n",
        "        'False Positive (FP)': fp,\n",
        "        'False Negative (FN)': fn,\n",
        "        'True Negative (TN)': tn,\n",
        "        'Accuracy': accuracy_score(y_test, y_pred),\n",
        "        'Precision': precision_score(y_test, y_pred),\n",
        "        'Recall': recall_score(y_test, y_pred),\n",
        "        'F1-Score': f1_score(y_test, y_pred)\n",
        "    }\n",
        "    return results"
      ]
    },
    {
      "cell_type": "code",
      "execution_count": 35,
      "metadata": {
        "id": "mnE5D62QPMUF"
      },
      "outputs": [],
      "source": [
        "# Mengevaluasi setiap model dan mengumpulkan hasilnya\n",
        "results = {\n",
        "    'K-Nearest Neighbors (KNN)': evaluate_model(knn, X_test, y_test),\n",
        "    'Naive Bayes (NB)': evaluate_model(nb, X_test, y_test)\n",
        "}"
      ]
    },
    {
      "cell_type": "code",
      "execution_count": 36,
      "metadata": {
        "id": "aOjh9LmFPOn6"
      },
      "outputs": [],
      "source": [
        "# Buat DataFrame untuk meringkas hasil\n",
        "summary_df = pd.DataFrame(columns=['Model', 'Accuracy', 'Precision', 'Recall', 'F1-Score'])"
      ]
    },
    {
      "cell_type": "code",
      "execution_count": 37,
      "metadata": {
        "id": "iyvuhrf0PRUb"
      },
      "outputs": [],
      "source": [
        "# Isi DataFrame dengan hasil\n",
        "rows = []\n",
        "for model_name, metrics in results.items():\n",
        "    rows.append({\n",
        "        'Model': model_name,\n",
        "        'Accuracy': metrics['Accuracy'],\n",
        "        'Precision': metrics['Precision'],\n",
        "        'Recall': metrics['Recall'],\n",
        "        'F1-Score': metrics['F1-Score']\n",
        "    })"
      ]
    },
    {
      "cell_type": "code",
      "execution_count": 38,
      "metadata": {
        "colab": {
          "base_uri": "https://localhost:8080/"
        },
        "id": "9-mTubaePUuP",
        "outputId": "63f60b9b-f355-4d3b-a239-b9874ae59c2f"
      },
      "outputs": [
        {
          "output_type": "stream",
          "name": "stdout",
          "text": [
            "                       Model  Accuracy  Precision    Recall  F1-Score\n",
            "0  K-Nearest Neighbors (KNN)  0.998802   0.996825  1.000000  0.998410\n",
            "1           Naive Bayes (NB)  0.953293   1.000000  0.875796  0.933786\n"
          ]
        }
      ],
      "source": [
        "# Konversi ke DataFrame\n",
        "summary_df = pd.DataFrame(rows)\n",
        "\n",
        "# Tampilkan DataFrame\n",
        "print(summary_df)"
      ]
    },
    {
      "cell_type": "code",
      "execution_count": 41,
      "metadata": {
        "colab": {
          "base_uri": "https://localhost:8080/",
          "height": 410
        },
        "id": "PmNq0IlyR5h-",
        "outputId": "827f6a8a-f25e-4f56-940d-5c0bf90c7b59"
      },
      "outputs": [
        {
          "output_type": "display_data",
          "data": {
            "text/plain": [
              "<Figure size 600x400 with 2 Axes>"
            ],
            "image/png": "[encoded data removed]"
          },
          "metadata": {}
        }
      ],
      "source": [
        "# Confusion matrix KNN\n",
        "y_pred = knn.predict(X_test)\n",
        "\n",
        "# Buat confusion matrix\n",
        "cm = confusion_matrix(y_test, y_pred)\n",
        "\n",
        "# Visualisasi confusion matrix\n",
        "plt.figure(figsize=(6, 4))\n",
        "sns.heatmap(cm, annot=True, fmt='d', cmap='Blues', xticklabels=set(y_test), yticklabels=set(y_test))\n",
        "plt.xlabel('Predicted')\n",
        "plt.ylabel('Actual')\n",
        "plt.title('Confusion Matrix KNN')\n",
        "plt.show()"
      ]
    },
    {
      "cell_type": "code",
      "execution_count": 40,
      "metadata": {
        "colab": {
          "base_uri": "https://localhost:8080/",
          "height": 410
        },
        "id": "uQywcWKrSSXN",
        "outputId": "277eb86d-e77e-4538-ebf3-d614192328f8"
      },
      "outputs": [
        {
          "output_type": "display_data",
          "data": {
            "text/plain": [
              "<Figure size 600x400 with 2 Axes>"
            ],
            "image/png": "[encoded data removed]"
          },
          "metadata": {}
        }
      ],
      "source": [
        "# Confusion matrix Naive Bayes\n",
        "y_pred = nb.predict(X_test)\n",
        "\n",
        "# Buat confusion matrix\n",
        "cm = confusion_matrix(y_test, y_pred)\n",
        "\n",
        "# Visualisasi confusion matrix\n",
        "plt.figure(figsize=(6, 4))\n",
        "sns.heatmap(cm, annot=True, fmt='d', cmap='Blues', xticklabels=set(y_test), yticklabels=set(y_test))\n",
        "plt.xlabel('Predicted')\n",
        "plt.ylabel('Actual')\n",
        "plt.title('Confusion Matrix Naive Bayes')\n",
        "plt.show()"
      ]
    },
    {
      "cell_type": "markdown",
      "metadata": {
        "id": "H4_9OwrsXZlz"
      },
      "source": [
        "Tulis hasil evaluasi algoritma yang digunakan, jika Anda menggunakan 2 algoritma, maka bandingkan hasilnya."
      ]
    },
    {
      "cell_type": "markdown",
      "metadata": {
        "id": "ph9yIYDXEPuB"
      },
      "source": [
        "## **c. Tuning Model Klasifikasi (Optional)**"
      ]
    },
    {
      "cell_type": "markdown",
      "metadata": {
        "id": "-Bikx3LINv5e"
      },
      "source": [
        "Gunakan GridSearchCV, RandomizedSearchCV, atau metode lainnya untuk mencari kombinasi hyperparameter terbaik"
      ]
    },
    {
      "cell_type": "markdown",
      "metadata": {
        "id": "hE7pqlEPEYzI"
      },
      "source": [
        "## **d. Evaluasi Model Klasifikasi setelah Tuning (Optional)**"
      ]
    },
    {
      "cell_type": "markdown",
      "metadata": {
        "id": "feaPESoeN0zz"
      },
      "source": [
        "Berikut adalah rekomendasi tahapannya.\n",
        "1. Gunakan model dengan hyperparameter terbaik.\n",
        "2. Hitung ulang metrik evaluasi untuk melihat apakah ada peningkatan performa."
      ]
    },
    {
      "cell_type": "markdown",
      "metadata": {
        "id": "ZRsOdm4uEgAW"
      },
      "source": [
        "## **e. Analisis Hasil Evaluasi Model Klasifikasi**"
      ]
    },
    {
      "cell_type": "markdown",
      "metadata": {
        "id": "Hm3BhSi6N4_l"
      },
      "source": [
        "Berikut adalah **rekomendasi** tahapannya.\n",
        "1. Bandingkan hasil evaluasi sebelum dan setelah tuning (jika dilakukan).\n",
        "2. Identifikasi kelemahan model, seperti:\n",
        "  - Precision atau Recall rendah untuk kelas tertentu.\n",
        "  - Apakah model mengalami overfitting atau underfitting?\n",
        "3. Berikan rekomendasi tindakan lanjutan, seperti mengumpulkan data tambahan atau mencoba algoritma lain jika hasil belum memuaskan."
      ]
    },
    {
      "cell_type": "markdown",
      "source": [
        "## Analisis Hasil Evaluasi Model Klasifikasi\n",
        "\n",
        "Dari tabel hasil evaluasi, terlihat bahwa empat model yaitu K-Nearest Neighbors (KNN), Decision Tree (DT), Random Forest (RF), dan Support Vector Machine (SVM) pada semua metriks evaluasi adalah :\n",
        "- **Accuracy:** 100 %  \n",
        "- **Precision:** 100 %\n",
        "- **Recall:** 100 %\n",
        "- **F1-Score:** 100 %  \n",
        "\n"
      ],
      "metadata": {
        "id": "2VokK_W3JDcb"
      }
    },
    {
      "cell_type": "markdown",
      "metadata": {
        "id": "NTVI8DD-Td7P"
      },
      "source": [
        "## **Analisis Hasil Evaluasi Model Klasifikasi**\n",
        "\n",
        "1. **K-Nearest Neighbors (KNN)**  \n",
        "   Model ini menunjukkan performa lebih baik dengan **akurasi 99.88%**, **precision 99.68%**, **recall 100%**, dan **F1-score 99.84%**. Dengan recall yang sempurna, model ini mampu menangkap seluruh instance positif dengan sangat baik. Precision yang tinggi juga menandakan model jarang melakukan kesalahan.\n",
        "\n",
        "2. **Naive Bayes (NB)**  \n",
        "   Naive Bayes memiliki **akurasi 95.33%**, **precision 100%**, **recall 87.58%**, dan **F1-score 93.38%**. Model ini sangat tepat dalam memprediksi kelas positif (precision 100%), namun masih ada beberapa kasus positif yang gagal dikenali, terlihat dari recall yang sedikit lebih rendah dibanding KNN. Meski begitu, F1-score menunjukkan performa keseluruhan yang tetap bagus.\n",
        "\n",
        "\n",
        "### **Kesimpulan:**\n",
        "\n",
        "Dari dua model yang dibandingkan, **KNN lebih unggul dibandingkan dengan Naive Bayes ** dengan keseimbangan antara ketepatan dan cakupan prediksi, menjadikannya **model terbaik dalam percobaan hasil clustering sebelumnya**. Naive Bayes masih layak dipertimbangkan sebagai alternatif yang ringan dan cepat, terutama saat resources terbatas."
      ]
    }
  ],
  "metadata": {
    "colab": {
      "provenance": []
    },
    "kernelspec": {
      "display_name": "Python 3",
      "name": "python3"
    },
    "language_info": {
      "name": "python"
    }
  },
  "nbformat": 4,
  "nbformat_minor": 0
}